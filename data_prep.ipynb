{
 "cells": [
  {
   "cell_type": "markdown",
   "metadata": {},
   "source": [
    "# Some prep... 🤔\n",
    "\n",
    "btw i used [this](https://medium.com/analytics-vidhya/train-a-custom-yolov4-tiny-object-detector-on-linux-3b6f3f6cf19b) article as the main guide :D "
   ]
  },
  {
   "cell_type": "code",
   "execution_count": 3,
   "metadata": {},
   "outputs": [],
   "source": [
    "import cv2\n",
    "import os\n",
    "\n",
    "# resize\n",
    "for i in range(3):\n",
    "    image_path = os.path.join(\"data\",\"unprocessed\", f\"{i+1}.jpg\")\n",
    "    img = cv2.imread(image_path)\n",
    "    img = cv2.resize(img, (480, 360))\n",
    "    cv2.imwrite(os.path.join(\"data\", \"resized\",f\"{i+1}.jpg\"), img)\n",
    "    \n"
   ]
  },
  {
   "cell_type": "code",
   "execution_count": 4,
   "metadata": {},
   "outputs": [],
   "source": [
    "from data_aug_functions import dataAugGeneral\n",
    "\n",
    "dataAugGeneral(['1.jpg', '2.jpg', '3.jpg'], \"V\")\n",
    "dataAugGeneral(['1.jpg', '2.jpg', '3.jpg'], \"B\")\n",
    "dataAugGeneral(['1.jpg', '2.jpg', '3.jpg'], \"H\")\n",
    "dataAugGeneral(['1.jpg', '2.jpg', '3.jpg'], \"rotate\")\n",
    "\n"
   ]
  },
  {
   "cell_type": "code",
   "execution_count": 3,
   "metadata": {},
   "outputs": [],
   "source": [
    "from data_aug_functions import allData\n",
    "import cv2\n",
    "\n",
    "# move data to processed folder\n",
    "allData()"
   ]
  },
  {
   "cell_type": "markdown",
   "metadata": {},
   "source": [
    "# Lets start labeling our images :D"
   ]
  },
  {
   "cell_type": "code",
   "execution_count": null,
   "metadata": {},
   "outputs": [],
   "source": [
    "!pip install --upgrade pyqt5 lxml"
   ]
  },
  {
   "cell_type": "code",
   "execution_count": 4,
   "metadata": {},
   "outputs": [],
   "source": [
    "\n",
    "\n",
    "import os\n",
    "LABELIMG_PATH = os.path.join('Tensorflow', 'labelimg')\n",
    "\n",
    "if not os.path.exists(LABELIMG_PATH):\n",
    "    !mkdir {LABELIMG_PATH}\n",
    "    !git clone https://github.com/tzutalin/labelImg {LABELIMG_PATH}\n",
    "\n",
    "\n",
    "!cd {LABELIMG_PATH} && pyrcc5 -o libs/resources.py resources.qrc\n",
    "\n"
   ]
  },
  {
   "cell_type": "code",
   "execution_count": null,
   "metadata": {},
   "outputs": [],
   "source": [
    "!cd {LABELIMG_PATH} && python labelImg.py"
   ]
  },
  {
   "cell_type": "code",
   "execution_count": 7,
   "metadata": {},
   "outputs": [],
   "source": [
    "TRAIN_PATH = os.path.join('Tensorflow', 'workspace', 'images', \"train\")\n",
    "TEST_PATH = os.path.join('Tensorflow', 'workspace', 'images', \"test\")\n",
    "ARCHIVE_PATH = os.path.join('Tensorflow', 'workspace', 'images', 'archive.tar.gz')"
   ]
  },
  {
   "cell_type": "code",
   "execution_count": 8,
   "metadata": {},
   "outputs": [],
   "source": [
    "!tar -czf {ARCHIVE_PATH} {TRAIN_PATH} {TEST_PATH}\n"
   ]
  }
 ],
 "metadata": {
  "kernelspec": {
   "display_name": "Python 3.9.12 ('base')",
   "language": "python",
   "name": "python3"
  },
  "language_info": {
   "codemirror_mode": {
    "name": "ipython",
    "version": 3
   },
   "file_extension": ".py",
   "mimetype": "text/x-python",
   "name": "python",
   "nbconvert_exporter": "python",
   "pygments_lexer": "ipython3",
   "version": "3.9.12"
  },
  "orig_nbformat": 4,
  "vscode": {
   "interpreter": {
    "hash": "3ee29c714df3265524192047a9c1ed88540f892048242636a710e8ef53fb505b"
   }
  }
 },
 "nbformat": 4,
 "nbformat_minor": 2
}
